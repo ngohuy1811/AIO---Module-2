{
  "nbformat": 4,
  "nbformat_minor": 0,
  "metadata": {
    "colab": {
      "provenance": [],
      "authorship_tag": "ABX9TyPZyYN4b2MnSiJQdjdoo6Qk",
      "include_colab_link": true
    },
    "kernelspec": {
      "name": "python3",
      "display_name": "Python 3"
    },
    "language_info": {
      "name": "python"
    }
  },
  "cells": [
    {
      "cell_type": "markdown",
      "metadata": {
        "id": "view-in-github",
        "colab_type": "text"
      },
      "source": [
        "<a href=\"https://colab.research.google.com/github/ngohuy1811/AIO---Module-2/blob/main/M3_Decision_tree.ipynb\" target=\"_parent\"><img src=\"https://colab.research.google.com/assets/colab-badge.svg\" alt=\"Open In Colab\"/></a>"
      ]
    },
    {
      "cell_type": "code",
      "execution_count": null,
      "metadata": {
        "id": "ofbRA-1GOfql"
      },
      "outputs": [],
      "source": [
        "#TN\n",
        "'''\n",
        "1.a\n",
        "2.c\n",
        "3.d\n",
        "4.c\n",
        "5.b\n",
        "6.a\n",
        "7.b\n",
        "8.a\n",
        "9.a\n",
        "10.c\n",
        "11.a"
      ]
    }
  ]
}